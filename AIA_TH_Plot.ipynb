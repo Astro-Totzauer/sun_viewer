{
 "cells": [
  {
   "cell_type": "code",
   "execution_count": 1,
   "id": "83396e3b",
   "metadata": {},
   "outputs": [],
   "source": [
    "\n",
    "import h5py\n",
    "import numpy as np\n",
    "import matplotlib.pyplot as plt\n",
    "%matplotlib tk\n",
    "import deepdish\n",
    "import scipy.interpolate as sci\n",
    "from astropy.io import fits\n",
    "from scipy import ndimage\n",
    "from ipywidgets import interact, interactive, fixed, interact_manual\n",
    "import ipywidgets as widgets\n"
   ]
  },
  {
   "cell_type": "code",
   "execution_count": 2,
   "id": "5e40554d",
   "metadata": {},
   "outputs": [],
   "source": [
    "#Load data from files\n",
    "\n",
    "file = h5py.File('mgn_ng_1024.hdf5','r')\n",
    "data = file['cube_display']\n",
    "coords_file = h5py.File('t_h_plot_coords_20221108152301','r')\n",
    "coords_from_file = coords_file['x_coords_all']\n",
    "\n",
    "cube = data[550:675,0:550,145:270]\n",
    "n = cube.shape[2]\n",
    "#sobel = ndimage(cube,axis=2)"
   ]
  },
  {
   "cell_type": "code",
   "execution_count": 3,
   "id": "6c085e7a",
   "metadata": {},
   "outputs": [],
   "source": [
    "#Set up coordinates\n",
    "\n",
    "coords_dict = {}\n",
    "x_coords_all = coords_from_file\n",
    "dict_group_load = coords_file['coords_dict']\n",
    "dict_group_keys = dict_group_load.keys()\n",
    "for i in dict_group_keys:\n",
    "    coords_dict[i] = dict_group_load[i][:]\n",
    "base_x = 485.0\n",
    "base_y = 3.0\n",
    "prev_coords = np.array([base_x,base_y])\n",
    "i1 = None\n",
    "i2 = None"
   ]
  },
  {
   "cell_type": "code",
   "execution_count": 4,
   "id": "9a296dfb",
   "metadata": {},
   "outputs": [],
   "source": [
    "fig, ax = plt.subplots()\n",
    "ax.set_aspect(0.1)\n",
    "\n",
    "x_vals_all = [*set(x_coords_all)]\n",
    "x_range = np.arange(min(x_vals_all),max(x_vals_all)+1,1)\n",
    "keys = list(coords_dict.keys())\n",
    "#print(keys)\n",
    "ints = []\n",
    "n_y = len(x_range)\n",
    "sheet_cube = np.zeros((n_y,n))\n",
    "dist_cube = np.zeros((n_y,n))\n",
    "coordinates = np.zeros((n_y,n))\n",
    "interp_sheet = np.zeros((n_y,n))\n",
    "for i in range(len(keys)):\n",
    "    key = keys[i][:keys[i].find('_')]\n",
    "    key = int(key)\n",
    "    ints.append(key)\n",
    "ints_no_dups = [*set(ints)]\n",
    "ints_no_dups = sorted(ints_no_dups)\n",
    "#print(ints_no_dups)\n",
    "for j in ints_no_dups:\n",
    "    x_vals = coords_dict[str(j)+'_x']\n",
    "    y_vals = coords_dict[str(j)+'_y']\n",
    "    z = np.polyfit(x_vals, y_vals, 3)\n",
    "    f = np.poly1d(z)\n",
    "    x_start = min(x_vals_all)\n",
    "    x_end = max(x_vals_all)\n",
    "    y_new = f(x_range)\n",
    "    if j == min(ints_no_dups):\n",
    "        y_coords_0 = y_new\n",
    "    else:\n",
    "        pass\n",
    "    for k in range(len(x_range)):\n",
    "        #print('k='+str(k))\n",
    "        x0 = int(x_range[k])\n",
    "        y0 = int(y_new[k])\n",
    "        #prev_coords = np.array([base_x,base_y])\n",
    "        if k == max(x_range):\n",
    "            pix_val = ((cube[y0-1,x0,j]/2)+cube[y0,x0,j])/2\n",
    "            b = np.array([x0,y0])\n",
    "            a = prev_coords\n",
    "            distance = np.linalg.norm(a-b)\n",
    "            dist_cube[k,j] = distance\n",
    "            prev_coords = b\n",
    "        elif k == min(x_range):\n",
    "            pix_val = ((cube[y0+1,x0,j]/2)+cube[y0,x0,j])/2\n",
    "            prev_dist = np.array([base_x,base_y])\n",
    "            a = prev_dist\n",
    "            b = np.array([x0,y0])\n",
    "            distance = np.linalg.norm(a-b)\n",
    "            dist_cube[k,j] = distance\n",
    "            prev_coords = b\n",
    "        else:\n",
    "            pix_val = ((cube[y0-1,x0,j]/2)+(cube[y0+1,x0,j]/2)+cube[y0,x0,j])/3\n",
    "            a = prev_coords\n",
    "            b = np.array([x0,y0])\n",
    "            distance = np.linalg.norm(a-b)\n",
    "            dist_cube[k,j] = distance\n",
    "            prev_coords = b\n",
    "        sheet_cube[k,j] = pix_val\n",
    "        coordinates[k,j] = y0\n",
    "for x in range(n):\n",
    "    if x < min(ints_no_dups):\n",
    "        for y in range(len(x_range)):\n",
    "            x0 = int(x_range[y])\n",
    "            y0 = int(coordinates[y,x])\n",
    "            pix_val = cube[y0,x0,x]\n",
    "            sheet_cube[y,x] = pix_val \n",
    "            coordinates[y,x] = y0\n",
    "            if y == 0:\n",
    "                prev_coords = np.array([base_x,base_y])\n",
    "            else:\n",
    "                pass \n",
    "            a = prev_coords \n",
    "            b = np.array((x0,y0))\n",
    "            distance = np.linalg.norm(a-b)\n",
    "            dist_cube[y,x] = distance \n",
    "            prev_coords = b\n",
    "    elif x in ints_no_dups:\n",
    "        if x == max(ints_no_dups):\n",
    "            pass \n",
    "        else:\n",
    "            i1 = int(x)\n",
    "            i2_index = int(ints_no_dups.index(x)+1)\n",
    "            i2 = ints_no_dups[i2_index]\n",
    "    else:\n",
    "        for y in range(len(x_range)):\n",
    "            x0 = int(x_range[y])\n",
    "            i_diff = i2 - i1\n",
    "            y1 = coordinates[y,i1]\n",
    "            y2 = coordinates[y,i2]\n",
    "            #print('y='+str(y))\n",
    "            #print('i1='+str(self.i1))\n",
    "            #print('i2='+str(self.i2))\n",
    "            #print('y1='+str(y1))\n",
    "            #print('y2='+str(y2))\n",
    "            y_diff = y2 - y1\n",
    "            ints_0 = y_diff/i_diff\n",
    "            y_prev = coordinates[y,x-1]\n",
    "            #print('y_prev='+str(y_prev))\n",
    "            if y_diff == 0:\n",
    "                y0 = int(y_prev)\n",
    "            else: \n",
    "                y0 = int(round(y_prev + ints_0))\n",
    "            pix_val = ((cube[y0-1,x0,x]/2)+(cube[y0+1,x0,x]/2)+cube[y0,x0,x])/3\n",
    "            sheet_cube[y,x] = pix_val \n",
    "            coordinates[y,x] = y0\n",
    "            if y == 0:\n",
    "                prev_coords = np.array([base_x,base_y])\n",
    "            else:\n",
    "                pass \n",
    "            a = prev_coords\n",
    "            b = np.array((x0, y0))\n",
    "            distance = np.linalg.norm(a-b)\n",
    "            dist_cube[y,x] = distance \n",
    "            prev_coords = b\n",
    "ax.imshow(np.flip(sheet_cube,axis=0), cmap = 'viridis',vmax = 0.5)\n",
    "ax.set_aspect('auto')\n",
    "ax.invert_yaxis()\n",
    "fig.canvas.draw()\n",
    "plt.show()\n",
    "#print(self.sheet_cube.shape)\n",
    "#print(self.sheet_cube)\n",
    "#print(self.dist_cube.shape)\n",
    "#print(self.dist_cube)\n"
   ]
  },
  {
   "cell_type": "code",
   "execution_count": 5,
   "id": "25463079",
   "metadata": {},
   "outputs": [],
   "source": [
    "distances = np.zeros((dist_cube.shape[0],dist_cube.shape[1]))\n",
    "dist_cube2 = np.flip(dist_cube,axis=0)\n",
    "for i in range(dist_cube.shape[1]):\n",
    "    for j in range(dist_cube.shape[0]):\n",
    "        total = sum(dist_cube2[:j+1,i])\n",
    "        distances[j,i] = total\n",
    "distances = np.flip(distances,axis=0)"
   ]
  },
  {
   "cell_type": "code",
   "execution_count": 6,
   "id": "ff2893a5",
   "metadata": {},
   "outputs": [
    {
     "name": "stdout",
     "output_type": "stream",
     "text": [
      "[433.5218919  365.13708499 364.72287143 409.63553218 363.48023074\n",
      " 363.48023074 393.1458622  363.48023074 363.8944443  405.50654198\n",
      " 363.8944443  364.30865787 373.78298812 365.13708499 365.13708499\n",
      " 388.62237656 364.72287143 364.72287143 364.72287143 364.30865787]\n"
     ]
    }
   ],
   "source": [
    "print(distances[100,80:100])"
   ]
  },
  {
   "cell_type": "code",
   "execution_count": 7,
   "id": "57df3fbf",
   "metadata": {},
   "outputs": [],
   "source": [
    "times = np.arange(125)\n",
    "times = np.repeat(times,432)\n",
    "\n",
    "new_times = np.repeat(np.arange(125),450)"
   ]
  },
  {
   "cell_type": "code",
   "execution_count": 8,
   "id": "67368405",
   "metadata": {},
   "outputs": [],
   "source": [
    "h = distances[:,45]"
   ]
  },
  {
   "cell_type": "code",
   "execution_count": 9,
   "id": "3f8c10f3",
   "metadata": {},
   "outputs": [
    {
     "name": "stdout",
     "output_type": "stream",
     "text": [
      "(432, 125)\n"
     ]
    }
   ],
   "source": [
    "print(sheet_cube.shape)"
   ]
  },
  {
   "cell_type": "code",
   "execution_count": 10,
   "id": "7d377872",
   "metadata": {},
   "outputs": [],
   "source": [
    "y = np.concatenate([distances[:, i] for i in range(125)])"
   ]
  },
  {
   "cell_type": "code",
   "execution_count": 11,
   "id": "8990c76b",
   "metadata": {},
   "outputs": [],
   "source": [
    "values = np.concatenate([sheet_cube[:,i] for i in range(125)])"
   ]
  },
  {
   "cell_type": "code",
   "execution_count": 12,
   "id": "23560a32",
   "metadata": {},
   "outputs": [],
   "source": [
    "new_heights = np.concatenate([np.arange(450,0,-1) for i in range(125)])"
   ]
  },
  {
   "cell_type": "code",
   "execution_count": 13,
   "id": "88efddc1",
   "metadata": {},
   "outputs": [],
   "source": [
    "test_grid = sci.griddata((times,y),values,(new_times,new_heights),method='cubic')"
   ]
  },
  {
   "cell_type": "code",
   "execution_count": 14,
   "id": "383c9905",
   "metadata": {},
   "outputs": [
    {
     "name": "stdout",
     "output_type": "stream",
     "text": [
      "(54000,)\n",
      "(54000,)\n",
      "(56250,)\n",
      "(54000,)\n",
      "(56250,)\n"
     ]
    }
   ],
   "source": [
    "print(times.shape)\n",
    "print(values.shape)\n",
    "print(new_heights.shape)\n",
    "print(y.shape)\n",
    "print(new_times.shape)"
   ]
  },
  {
   "cell_type": "code",
   "execution_count": 15,
   "id": "9fd06a31",
   "metadata": {},
   "outputs": [
    {
     "data": {
      "text/plain": [
       "(56250,)"
      ]
     },
     "execution_count": 15,
     "metadata": {},
     "output_type": "execute_result"
    }
   ],
   "source": [
    "test_grid.shape"
   ]
  },
  {
   "cell_type": "code",
   "execution_count": 16,
   "id": "8ccd07a2",
   "metadata": {},
   "outputs": [],
   "source": [
    "test_grid2 = test_grid.reshape((125,450))"
   ]
  },
  {
   "cell_type": "code",
   "execution_count": 17,
   "id": "c2ec9300",
   "metadata": {},
   "outputs": [],
   "source": [
    "fig2, ax2 = plt.subplots()\n",
    "plt.imshow(np.flip(np.rot90(test_grid2,k=3),axis=1))\n",
    "ax2.set_aspect('auto')\n",
    "plt.show()"
   ]
  },
  {
   "cell_type": "code",
   "execution_count": 18,
   "id": "3dcb4c5c",
   "metadata": {
    "scrolled": true
   },
   "outputs": [],
   "source": [
    "fig3, ax3 = plt.subplots(nrows=2, sharex=True,sharey=True, figsize=(12,16))\n",
    "\n",
    "ax3[0].imshow(sheet_cube**2,vmax = 0.2**2, vmin=0, cmap = 'plasma')\n",
    "ax3[0].set_aspect('auto')\n",
    "ax3[0].set_title('Original')\n",
    "\n",
    "ax3[1].imshow(np.flip(np.rot90(test_grid2,k=3),axis=1)**2,vmax=0.2**2, vmin=0, cmap = 'plasma')\n",
    "ax3[1].set_aspect('auto')\n",
    "ax3[1].set_title('Griddata')\n",
    "\n",
    "plt.show()"
   ]
  },
  {
   "cell_type": "code",
   "execution_count": 55,
   "id": "b6a25725",
   "metadata": {},
   "outputs": [],
   "source": [
    "#pwd"
   ]
  },
  {
   "cell_type": "code",
   "execution_count": 40,
   "id": "7baceadc",
   "metadata": {},
   "outputs": [],
   "source": [
    "#hdu = fits.PrimaryHDU(sheet_cube)"
   ]
  },
  {
   "cell_type": "code",
   "execution_count": 41,
   "id": "5e164df7",
   "metadata": {},
   "outputs": [],
   "source": [
    "#hdu1 = fits.HDUList([hdu])"
   ]
  },
  {
   "cell_type": "code",
   "execution_count": 42,
   "id": "f60ce238",
   "metadata": {},
   "outputs": [],
   "source": [
    "#AIA_flows_array = sheet_cube"
   ]
  },
  {
   "cell_type": "code",
   "execution_count": 43,
   "id": "8c392a64",
   "metadata": {},
   "outputs": [],
   "source": [
    "#AIA_flows_array.shape"
   ]
  },
  {
   "cell_type": "code",
   "execution_count": 44,
   "id": "2ccdb974",
   "metadata": {},
   "outputs": [],
   "source": [
    "#hdu = fits.PrimaryHDU(AIA_flows_array)"
   ]
  },
  {
   "cell_type": "code",
   "execution_count": 45,
   "id": "7c600b65",
   "metadata": {},
   "outputs": [],
   "source": [
    "#hdu1 = fits.HDUList([hdu])"
   ]
  },
  {
   "cell_type": "code",
   "execution_count": 46,
   "id": "194c69fb",
   "metadata": {},
   "outputs": [],
   "source": [
    "#hdu1.writeto('AIA_flows.fits')"
   ]
  },
  {
   "cell_type": "code",
   "execution_count": 78,
   "id": "52a33de6",
   "metadata": {},
   "outputs": [],
   "source": [
    "#Designate first structure\n",
    "\n",
    "fig4, ax4 = plt.subplots(figsize=(12,10))\n",
    "\n",
    "points_x = []\n",
    "points_y = []\n",
    "\n",
    "def onclick(event):\n",
    "    ix, iy = event.xdata, event.ydata\n",
    "    points_x.append(ix)\n",
    "    points_y.append(iy)\n",
    "    #print(ix, iy)\n",
    "\n",
    "cid = fig4.canvas.mpl_connect('button_press_event', onclick) \n",
    "\n",
    "im = ax4.imshow(np.flip(np.rot90(test_grid2,k=3),axis=1)**2,vmax=0.2**2, vmin=0, cmap = 'plasma')\n",
    "ax4.set_aspect('auto')\n",
    "plt.show()"
   ]
  },
  {
   "cell_type": "code",
   "execution_count": 79,
   "id": "a316756d-865a-49ac-b806-370d360bc328",
   "metadata": {},
   "outputs": [],
   "source": [
    "z = np.polyfit(points_x, points_y, 3)\n",
    "x_range = np.arange(min(points_x), max(points_x)+1, 0.01)\n",
    "f0 = np.poly1d(z)\n",
    "y0 = f0(x_range)\n",
    "x0 = x_range"
   ]
  },
  {
   "cell_type": "code",
   "execution_count": 80,
   "id": "708c2058-e766-4533-9a9a-449cbd3342d7",
   "metadata": {},
   "outputs": [],
   "source": [
    "fig5, ax5 = plt.subplots(figsize=(12,10))\n",
    "im = ax5.imshow(np.flip(np.rot90(test_grid2,k=3),axis=1)**2,vmax=0.2**2, vmin=0, cmap = 'plasma')\n",
    "plt.plot(x0,y0)\n",
    "ax5.set_aspect('auto')"
   ]
  },
  {
   "cell_type": "code",
   "execution_count": 84,
   "id": "d239929f-149b-41bb-8097-4b516036efaa",
   "metadata": {},
   "outputs": [],
   "source": [
    "#Designate second structure\n",
    "\n",
    "fig6, ax6 = plt.subplots(figsize=(12,10))\n",
    "\n",
    "points_x = []\n",
    "points_y = []\n",
    "\n",
    "def onclick(event):\n",
    "    ix, iy = event.xdata, event.ydata\n",
    "    points_x.append(ix)\n",
    "    points_y.append(iy)\n",
    "    #print(ix, iy)\n",
    "\n",
    "cid = fig6.canvas.mpl_connect('button_press_event', onclick) \n",
    "\n",
    "im = ax6.imshow(np.flip(np.rot90(test_grid2,k=3),axis=1)**2,vmax=0.2**2, vmin=0, cmap = 'plasma')\n",
    "ax6.set_aspect('auto')\n",
    "plt.show()"
   ]
  },
  {
   "cell_type": "code",
   "execution_count": 85,
   "id": "77dcedbb-0514-41b8-9076-afbcab46fd44",
   "metadata": {},
   "outputs": [],
   "source": [
    "z = np.polyfit(points_x, points_y, 3)\n",
    "x_range = np.arange(min(points_x), max(points_x)+1, 0.01)\n",
    "f1 = np.poly1d(z)\n",
    "y1 = f1(x_range)\n",
    "x1 = x_range\n",
    "fig7, ax7 = plt.subplots(figsize=(12,10))\n",
    "im = ax7.imshow(np.flip(np.rot90(test_grid2,k=3),axis=1)**2,vmax=0.2**2, vmin=0, cmap = 'plasma')\n",
    "plt.plot(x1,y1)\n",
    "ax7.set_aspect('auto')"
   ]
  },
  {
   "cell_type": "code",
   "execution_count": null,
   "id": "737391b1-46a3-46f2-8e1b-51674c8d7403",
   "metadata": {},
   "outputs": [],
   "source": []
  }
 ],
 "metadata": {
  "kernelspec": {
   "display_name": "Python 3 (ipykernel)",
   "language": "python",
   "name": "python3"
  },
  "language_info": {
   "codemirror_mode": {
    "name": "ipython",
    "version": 3
   },
   "file_extension": ".py",
   "mimetype": "text/x-python",
   "name": "python",
   "nbconvert_exporter": "python",
   "pygments_lexer": "ipython3",
   "version": "3.10.12"
  }
 },
 "nbformat": 4,
 "nbformat_minor": 5
}
